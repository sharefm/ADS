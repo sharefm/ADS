{
 "cells": [
  {
   "cell_type": "markdown",
   "metadata": {},
   "source": [
    "## Project for Advanced Data Science course\n",
    "#### Loay Abdulatif & Sharef Mustafa\n",
    "\n",
    "\n",
    "### We are investigating the possibility of detecting spam via meta data instead of disclosing the content of the message it self\n",
    "\n",
    "### The motivation here is ethical , as usual methodologies used in anti spaming will check the contents of the message it self and thus violating people privacy"
   ]
  },
  {
   "cell_type": "code",
   "execution_count": 128,
   "metadata": {
    "collapsed": true
   },
   "outputs": [],
   "source": [
    "import pandas as pd\n",
    "import seaborn as sns\n",
    "import matplotlib.pyplot as plt\n",
    "import numpy as np\n",
    "%matplotlib inline"
   ]
  },
  {
   "cell_type": "markdown",
   "metadata": {},
   "source": [
    "## we start with parsing the log of a mail server, as seen below this is a labled data since each row is representing an incoming email and the column 'Type' already classifies the email based on a commercial anti spam system"
   ]
  },
  {
   "cell_type": "code",
   "execution_count": 129,
   "metadata": {
    "collapsed": false
   },
   "outputs": [
    {
     "data": {
      "text/html": [
       "<div>\n",
       "<table border=\"1\" class=\"dataframe\">\n",
       "  <thead>\n",
       "    <tr style=\"text-align: right;\">\n",
       "      <th></th>\n",
       "      <th>Date</th>\n",
       "      <th>Msg Id</th>\n",
       "      <th>Client Address</th>\n",
       "      <th>Type</th>\n",
       "      <th>Score</th>\n",
       "      <th>From</th>\n",
       "      <th>To</th>\n",
       "      <th>Subject</th>\n",
       "      <th>Size</th>\n",
       "      <th>Virus Details</th>\n",
       "    </tr>\n",
       "  </thead>\n",
       "  <tbody>\n",
       "    <tr>\n",
       "      <th>0</th>\n",
       "      <td>5/11/2017 15:29</td>\n",
       "      <td>iJ1kYuEy-K0f</td>\n",
       "      <td>98.139.213.152</td>\n",
       "      <td>Clean</td>\n",
       "      <td>0.340</td>\n",
       "      <td>XXXXXXX@bellsouth.net</td>\n",
       "      <td>######@targetdomain.com</td>\n",
       "      <td>Second request كشف حساب ٢٠١٦</td>\n",
       "      <td>4331</td>\n",
       "      <td>NaN</td>\n",
       "    </tr>\n",
       "    <tr>\n",
       "      <th>1</th>\n",
       "      <td>5/11/2017 11:59</td>\n",
       "      <td>wXfZtBvH8F7S</td>\n",
       "      <td>98.139.213.148</td>\n",
       "      <td>Clean</td>\n",
       "      <td>-1.918</td>\n",
       "      <td>NaN</td>\n",
       "      <td>######@targetdomain.com</td>\n",
       "      <td>Delivery failure</td>\n",
       "      <td>5204</td>\n",
       "      <td>NaN</td>\n",
       "    </tr>\n",
       "    <tr>\n",
       "      <th>2</th>\n",
       "      <td>5/11/2017 15:15</td>\n",
       "      <td>POvVNhEZbKTS</td>\n",
       "      <td>98.138.121.119</td>\n",
       "      <td>Clean</td>\n",
       "      <td>-2.089</td>\n",
       "      <td>sdfs@yahoo.com</td>\n",
       "      <td>######@targetdomain.com</td>\n",
       "      <td>970nnnnnnnn</td>\n",
       "      <td>4395</td>\n",
       "      <td>NaN</td>\n",
       "    </tr>\n",
       "  </tbody>\n",
       "</table>\n",
       "</div>"
      ],
      "text/plain": [
       "              Date        Msg Id  Client Address   Type  Score  \\\n",
       "0  5/11/2017 15:29  iJ1kYuEy-K0f  98.139.213.152  Clean  0.340   \n",
       "1  5/11/2017 11:59  wXfZtBvH8F7S  98.139.213.148  Clean -1.918   \n",
       "2  5/11/2017 15:15  POvVNhEZbKTS  98.138.121.119  Clean -2.089   \n",
       "\n",
       "                    From                       To  \\\n",
       "0  XXXXXXX@bellsouth.net  ######@targetdomain.com   \n",
       "1                    NaN  ######@targetdomain.com   \n",
       "2         sdfs@yahoo.com  ######@targetdomain.com   \n",
       "\n",
       "                          Subject  Size  Virus Details  \n",
       "0    Second request كشف حساب ٢٠١٦  4331            NaN  \n",
       "1                Delivery failure  5204            NaN  \n",
       "2                     970nnnnnnnn  4395            NaN  "
      ]
     },
     "execution_count": 129,
     "metadata": {},
     "output_type": "execute_result"
    }
   ],
   "source": [
    "df = pd.read_csv('maildata.csv', error_bad_lines=False)\n",
    "df.head(3)"
   ]
  },
  {
   "cell_type": "markdown",
   "metadata": {},
   "source": [
    "### pepare the data for modeling, \"Client Address\" text column will be replaced by 4 numerical\n",
    "### columns representing the 4 octets of the IP address"
   ]
  },
  {
   "cell_type": "code",
   "execution_count": 130,
   "metadata": {
    "collapsed": false
   },
   "outputs": [],
   "source": [
    "b1 = []\n",
    "b2 = []\n",
    "b3 = []\n",
    "b4 = []\n",
    "\n",
    "for i in df['Client Address']:\n",
    "    ip = str(i).split('.')\n",
    "    b1.append(ip[0])\n",
    "    b2.append(ip[1])\n",
    "    b3.append(ip[2])\n",
    "    b4.append(ip[3])\n",
    "    \n",
    "\n",
    "df['b1'] = pd.Series(b1)\n",
    "df['b2'] = pd.Series(b2)\n",
    "df['b3'] = pd.Series(b3)\n",
    "df['b4'] = pd.Series(b4)\n",
    "\n",
    "df.drop('Client Address',1, inplace=True)"
   ]
  },
  {
   "cell_type": "markdown",
   "metadata": {},
   "source": [
    "### replace Date column with a numerical column of index numbers "
   ]
  },
  {
   "cell_type": "code",
   "execution_count": 131,
   "metadata": {
    "collapsed": false
   },
   "outputs": [],
   "source": [
    "df['Index'] = np.arange(len(df))\n",
    "df.drop('Date',1, inplace=True)\n"
   ]
  },
  {
   "cell_type": "markdown",
   "metadata": {},
   "source": [
    "### drop irrelavent columns , also dropping 'Score' to avoid any correlation from it with the output"
   ]
  },
  {
   "cell_type": "code",
   "execution_count": 132,
   "metadata": {
    "collapsed": false
   },
   "outputs": [
    {
     "data": {
      "text/html": [
       "<div>\n",
       "<table border=\"1\" class=\"dataframe\">\n",
       "  <thead>\n",
       "    <tr style=\"text-align: right;\">\n",
       "      <th></th>\n",
       "      <th>Type</th>\n",
       "      <th>From</th>\n",
       "      <th>To</th>\n",
       "      <th>Subject</th>\n",
       "      <th>Size</th>\n",
       "      <th>b1</th>\n",
       "      <th>b2</th>\n",
       "      <th>b3</th>\n",
       "      <th>b4</th>\n",
       "      <th>Index</th>\n",
       "    </tr>\n",
       "  </thead>\n",
       "  <tbody>\n",
       "    <tr>\n",
       "      <th>0</th>\n",
       "      <td>Clean</td>\n",
       "      <td>XXXXXXX@bellsouth.net</td>\n",
       "      <td>######@targetdomain.com</td>\n",
       "      <td>Second request كشف حساب ٢٠١٦</td>\n",
       "      <td>4331</td>\n",
       "      <td>98</td>\n",
       "      <td>139</td>\n",
       "      <td>213</td>\n",
       "      <td>152</td>\n",
       "      <td>0</td>\n",
       "    </tr>\n",
       "    <tr>\n",
       "      <th>1</th>\n",
       "      <td>Clean</td>\n",
       "      <td>NaN</td>\n",
       "      <td>######@targetdomain.com</td>\n",
       "      <td>Delivery failure</td>\n",
       "      <td>5204</td>\n",
       "      <td>98</td>\n",
       "      <td>139</td>\n",
       "      <td>213</td>\n",
       "      <td>148</td>\n",
       "      <td>1</td>\n",
       "    </tr>\n",
       "    <tr>\n",
       "      <th>2</th>\n",
       "      <td>Clean</td>\n",
       "      <td>sdfs@yahoo.com</td>\n",
       "      <td>######@targetdomain.com</td>\n",
       "      <td>970nnnnnnnn</td>\n",
       "      <td>4395</td>\n",
       "      <td>98</td>\n",
       "      <td>138</td>\n",
       "      <td>121</td>\n",
       "      <td>119</td>\n",
       "      <td>2</td>\n",
       "    </tr>\n",
       "  </tbody>\n",
       "</table>\n",
       "</div>"
      ],
      "text/plain": [
       "    Type                   From                       To  \\\n",
       "0  Clean  XXXXXXX@bellsouth.net  ######@targetdomain.com   \n",
       "1  Clean                    NaN  ######@targetdomain.com   \n",
       "2  Clean         sdfs@yahoo.com  ######@targetdomain.com   \n",
       "\n",
       "                          Subject  Size  b1   b2   b3   b4  Index  \n",
       "0    Second request كشف حساب ٢٠١٦  4331  98  139  213  152      0  \n",
       "1                Delivery failure  5204  98  139  213  148      1  \n",
       "2                     970nnnnnnnn  4395  98  138  121  119      2  "
      ]
     },
     "execution_count": 132,
     "metadata": {},
     "output_type": "execute_result"
    }
   ],
   "source": [
    "df.drop('Virus Details',1, inplace=True)\n",
    "df.drop('Msg Id',1, inplace=True)\n",
    "df.dropna()\n",
    "\n",
    "df.drop('Score',1, inplace=True)\n",
    "\n",
    "df.head(3)"
   ]
  },
  {
   "cell_type": "markdown",
   "metadata": {},
   "source": [
    "### prepare the target column 'Spam' by replacing text values with 0|1 representing Ham|Spam respectivly\n",
    "### drop 'Type' column afterwarsd\n"
   ]
  },
  {
   "cell_type": "code",
   "execution_count": 133,
   "metadata": {
    "collapsed": false
   },
   "outputs": [
    {
     "data": {
      "text/html": [
       "<div>\n",
       "<table border=\"1\" class=\"dataframe\">\n",
       "  <thead>\n",
       "    <tr style=\"text-align: right;\">\n",
       "      <th></th>\n",
       "      <th>From</th>\n",
       "      <th>To</th>\n",
       "      <th>Subject</th>\n",
       "      <th>Size</th>\n",
       "      <th>b1</th>\n",
       "      <th>b2</th>\n",
       "      <th>b3</th>\n",
       "      <th>b4</th>\n",
       "      <th>Index</th>\n",
       "      <th>Spam</th>\n",
       "    </tr>\n",
       "  </thead>\n",
       "  <tbody>\n",
       "    <tr>\n",
       "      <th>0</th>\n",
       "      <td>XXXXXXX@bellsouth.net</td>\n",
       "      <td>######@targetdomain.com</td>\n",
       "      <td>Second request كشف حساب ٢٠١٦</td>\n",
       "      <td>4331</td>\n",
       "      <td>98</td>\n",
       "      <td>139</td>\n",
       "      <td>213</td>\n",
       "      <td>152</td>\n",
       "      <td>0</td>\n",
       "      <td>0</td>\n",
       "    </tr>\n",
       "    <tr>\n",
       "      <th>1</th>\n",
       "      <td>NaN</td>\n",
       "      <td>######@targetdomain.com</td>\n",
       "      <td>Delivery failure</td>\n",
       "      <td>5204</td>\n",
       "      <td>98</td>\n",
       "      <td>139</td>\n",
       "      <td>213</td>\n",
       "      <td>148</td>\n",
       "      <td>1</td>\n",
       "      <td>0</td>\n",
       "    </tr>\n",
       "    <tr>\n",
       "      <th>2</th>\n",
       "      <td>sdfs@yahoo.com</td>\n",
       "      <td>######@targetdomain.com</td>\n",
       "      <td>970nnnnnnnn</td>\n",
       "      <td>4395</td>\n",
       "      <td>98</td>\n",
       "      <td>138</td>\n",
       "      <td>121</td>\n",
       "      <td>119</td>\n",
       "      <td>2</td>\n",
       "      <td>0</td>\n",
       "    </tr>\n",
       "    <tr>\n",
       "      <th>3</th>\n",
       "      <td>sdfs@yahoo.com</td>\n",
       "      <td>######@targetdomain.com</td>\n",
       "      <td>970nnnnnnnn</td>\n",
       "      <td>4397</td>\n",
       "      <td>98</td>\n",
       "      <td>138</td>\n",
       "      <td>121</td>\n",
       "      <td>119</td>\n",
       "      <td>3</td>\n",
       "      <td>0</td>\n",
       "    </tr>\n",
       "    <tr>\n",
       "      <th>4</th>\n",
       "      <td>XXXXXXX@yahoo.com</td>\n",
       "      <td>######@targetdomain.com</td>\n",
       "      <td>Re: رسالة قائمة  المهنية</td>\n",
       "      <td>11114</td>\n",
       "      <td>98</td>\n",
       "      <td>136</td>\n",
       "      <td>218</td>\n",
       "      <td>253</td>\n",
       "      <td>4</td>\n",
       "      <td>0</td>\n",
       "    </tr>\n",
       "    <tr>\n",
       "      <th>5</th>\n",
       "      <td>abx_red@yahoo.com</td>\n",
       "      <td>######@targetdomain.com</td>\n",
       "      <td>Fw: الموقع الالكتروني</td>\n",
       "      <td>5756</td>\n",
       "      <td>98</td>\n",
       "      <td>136</td>\n",
       "      <td>218</td>\n",
       "      <td>212</td>\n",
       "      <td>5</td>\n",
       "      <td>0</td>\n",
       "    </tr>\n",
       "    <tr>\n",
       "      <th>6</th>\n",
       "      <td>NaN</td>\n",
       "      <td>######@targetdomain.com</td>\n",
       "      <td>failure notice</td>\n",
       "      <td>3693</td>\n",
       "      <td>98</td>\n",
       "      <td>130</td>\n",
       "      <td>1</td>\n",
       "      <td>219</td>\n",
       "      <td>6</td>\n",
       "      <td>0</td>\n",
       "    </tr>\n",
       "    <tr>\n",
       "      <th>7</th>\n",
       "      <td>r351ozh-878z9k-z66yrp-9ryl7n-dkwfya-h-m2-20170...</td>\n",
       "      <td>######@targetdomain.com</td>\n",
       "      <td>NaN</td>\n",
       "      <td>0</td>\n",
       "      <td>96</td>\n",
       "      <td>47</td>\n",
       "      <td>30</td>\n",
       "      <td>71</td>\n",
       "      <td>7</td>\n",
       "      <td>1</td>\n",
       "    </tr>\n",
       "    <tr>\n",
       "      <th>8</th>\n",
       "      <td>sp4l07b-fd228w-9553px-kblmum-ru301e-h-m2-20170...</td>\n",
       "      <td>######@targetdomain.com</td>\n",
       "      <td>NaN</td>\n",
       "      <td>0</td>\n",
       "      <td>96</td>\n",
       "      <td>47</td>\n",
       "      <td>30</td>\n",
       "      <td>71</td>\n",
       "      <td>8</td>\n",
       "      <td>1</td>\n",
       "    </tr>\n",
       "    <tr>\n",
       "      <th>9</th>\n",
       "      <td>njanbcu-1ouc9c-1009wy-nol7jc-77ae9e-h-m2-20170...</td>\n",
       "      <td>######@targetdomain.com</td>\n",
       "      <td>NaN</td>\n",
       "      <td>0</td>\n",
       "      <td>96</td>\n",
       "      <td>47</td>\n",
       "      <td>30</td>\n",
       "      <td>70</td>\n",
       "      <td>9</td>\n",
       "      <td>1</td>\n",
       "    </tr>\n",
       "    <tr>\n",
       "      <th>10</th>\n",
       "      <td>dwhdr1e-201vme-5aarsl-bnwuha-z6g57v-h-m2-20170...</td>\n",
       "      <td>######@targetdomain.com</td>\n",
       "      <td>NaN</td>\n",
       "      <td>0</td>\n",
       "      <td>96</td>\n",
       "      <td>47</td>\n",
       "      <td>30</td>\n",
       "      <td>70</td>\n",
       "      <td>10</td>\n",
       "      <td>1</td>\n",
       "    </tr>\n",
       "    <tr>\n",
       "      <th>11</th>\n",
       "      <td>XXXXXXX@badiolaconsultores.com</td>\n",
       "      <td>######@targetdomain.com</td>\n",
       "      <td>NaN</td>\n",
       "      <td>0</td>\n",
       "      <td>95</td>\n",
       "      <td>70</td>\n",
       "      <td>169</td>\n",
       "      <td>20</td>\n",
       "      <td>11</td>\n",
       "      <td>1</td>\n",
       "    </tr>\n",
       "    <tr>\n",
       "      <th>12</th>\n",
       "      <td>XXXXXXX@cenovaizmir.com</td>\n",
       "      <td>######@targetdomain.com</td>\n",
       "      <td>NaN</td>\n",
       "      <td>0</td>\n",
       "      <td>95</td>\n",
       "      <td>173</td>\n",
       "      <td>185</td>\n",
       "      <td>80</td>\n",
       "      <td>12</td>\n",
       "      <td>1</td>\n",
       "    </tr>\n",
       "    <tr>\n",
       "      <th>13</th>\n",
       "      <td>NaN</td>\n",
       "      <td>######@targetdomain.com</td>\n",
       "      <td>Undeliverable: ALWatanieh PEX Daily Report</td>\n",
       "      <td>163457</td>\n",
       "      <td>95</td>\n",
       "      <td>130</td>\n",
       "      <td>88</td>\n",
       "      <td>81</td>\n",
       "      <td>13</td>\n",
       "      <td>0</td>\n",
       "    </tr>\n",
       "    <tr>\n",
       "      <th>14</th>\n",
       "      <td>XXXXXXX@newcell.com</td>\n",
       "      <td>######@targetdomain.com</td>\n",
       "      <td>RE: TT 972569316926</td>\n",
       "      <td>43352</td>\n",
       "      <td>95</td>\n",
       "      <td>130</td>\n",
       "      <td>88</td>\n",
       "      <td>81</td>\n",
       "      <td>14</td>\n",
       "      <td>0</td>\n",
       "    </tr>\n",
       "  </tbody>\n",
       "</table>\n",
       "</div>"
      ],
      "text/plain": [
       "                                                 From  \\\n",
       "0                               XXXXXXX@bellsouth.net   \n",
       "1                                                 NaN   \n",
       "2                                      sdfs@yahoo.com   \n",
       "3                                      sdfs@yahoo.com   \n",
       "4                                   XXXXXXX@yahoo.com   \n",
       "5                                   abx_red@yahoo.com   \n",
       "6                                                 NaN   \n",
       "7   r351ozh-878z9k-z66yrp-9ryl7n-dkwfya-h-m2-20170...   \n",
       "8   sp4l07b-fd228w-9553px-kblmum-ru301e-h-m2-20170...   \n",
       "9   njanbcu-1ouc9c-1009wy-nol7jc-77ae9e-h-m2-20170...   \n",
       "10  dwhdr1e-201vme-5aarsl-bnwuha-z6g57v-h-m2-20170...   \n",
       "11                     XXXXXXX@badiolaconsultores.com   \n",
       "12                            XXXXXXX@cenovaizmir.com   \n",
       "13                                                NaN   \n",
       "14                                XXXXXXX@newcell.com   \n",
       "\n",
       "                         To                                     Subject  \\\n",
       "0   ######@targetdomain.com                Second request كشف حساب ٢٠١٦   \n",
       "1   ######@targetdomain.com                            Delivery failure   \n",
       "2   ######@targetdomain.com                                 970nnnnnnnn   \n",
       "3   ######@targetdomain.com                                 970nnnnnnnn   \n",
       "4   ######@targetdomain.com                    Re: رسالة قائمة  المهنية   \n",
       "5   ######@targetdomain.com                      Fw: الموقع الالكتروني    \n",
       "6   ######@targetdomain.com                              failure notice   \n",
       "7   ######@targetdomain.com                                         NaN   \n",
       "8   ######@targetdomain.com                                         NaN   \n",
       "9   ######@targetdomain.com                                         NaN   \n",
       "10  ######@targetdomain.com                                         NaN   \n",
       "11  ######@targetdomain.com                                         NaN   \n",
       "12  ######@targetdomain.com                                         NaN   \n",
       "13  ######@targetdomain.com  Undeliverable: ALWatanieh PEX Daily Report   \n",
       "14  ######@targetdomain.com                         RE: TT 972569316926   \n",
       "\n",
       "      Size  b1   b2   b3   b4  Index  Spam  \n",
       "0     4331  98  139  213  152      0     0  \n",
       "1     5204  98  139  213  148      1     0  \n",
       "2     4395  98  138  121  119      2     0  \n",
       "3     4397  98  138  121  119      3     0  \n",
       "4    11114  98  136  218  253      4     0  \n",
       "5     5756  98  136  218  212      5     0  \n",
       "6     3693  98  130    1  219      6     0  \n",
       "7        0  96   47   30   71      7     1  \n",
       "8        0  96   47   30   71      8     1  \n",
       "9        0  96   47   30   70      9     1  \n",
       "10       0  96   47   30   70     10     1  \n",
       "11       0  95   70  169   20     11     1  \n",
       "12       0  95  173  185   80     12     1  \n",
       "13  163457  95  130   88   81     13     0  \n",
       "14   43352  95  130   88   81     14     0  "
      ]
     },
     "execution_count": 133,
     "metadata": {},
     "output_type": "execute_result"
    }
   ],
   "source": [
    "df['Spam'] = pd.Series( [ 0 if(str(i)=='Clean' or str(i)=='Whitelisted') else 1 for i in df['Type'] ])\n",
    "df.drop('Type',1, inplace=True) \n",
    "df.head(15)"
   ]
  },
  {
   "cell_type": "markdown",
   "metadata": {
    "collapsed": false
   },
   "source": [
    "## from the above we see that some critical columns are still in text and can not be replaced by numerical values, so we will use the numerical features only for now"
   ]
  },
  {
   "cell_type": "code",
   "execution_count": 134,
   "metadata": {
    "collapsed": false
   },
   "outputs": [],
   "source": [
    "X = df [['Index', 'Size' ,'b1', 'b2', 'b3', 'b4']]\n",
    "y = df['Spam']\n"
   ]
  },
  {
   "cell_type": "code",
   "execution_count": 135,
   "metadata": {
    "collapsed": false,
    "scrolled": true
   },
   "outputs": [
    {
     "data": {
      "text/html": [
       "<div>\n",
       "<table border=\"1\" class=\"dataframe\">\n",
       "  <thead>\n",
       "    <tr style=\"text-align: right;\">\n",
       "      <th></th>\n",
       "      <th>Index</th>\n",
       "      <th>Size</th>\n",
       "      <th>b1</th>\n",
       "      <th>b2</th>\n",
       "      <th>b3</th>\n",
       "      <th>b4</th>\n",
       "    </tr>\n",
       "  </thead>\n",
       "  <tbody>\n",
       "    <tr>\n",
       "      <th>0</th>\n",
       "      <td>0</td>\n",
       "      <td>4331</td>\n",
       "      <td>98</td>\n",
       "      <td>139</td>\n",
       "      <td>213</td>\n",
       "      <td>152</td>\n",
       "    </tr>\n",
       "    <tr>\n",
       "      <th>1</th>\n",
       "      <td>1</td>\n",
       "      <td>5204</td>\n",
       "      <td>98</td>\n",
       "      <td>139</td>\n",
       "      <td>213</td>\n",
       "      <td>148</td>\n",
       "    </tr>\n",
       "  </tbody>\n",
       "</table>\n",
       "</div>"
      ],
      "text/plain": [
       "   Index  Size  b1   b2   b3   b4\n",
       "0      0  4331  98  139  213  152\n",
       "1      1  5204  98  139  213  148"
      ]
     },
     "execution_count": 135,
     "metadata": {},
     "output_type": "execute_result"
    }
   ],
   "source": [
    "X.head(2)"
   ]
  },
  {
   "cell_type": "code",
   "execution_count": 136,
   "metadata": {
    "collapsed": false
   },
   "outputs": [],
   "source": [
    "from sklearn import metrics\n",
    "from sklearn.cross_validation import train_test_split\n",
    "from sklearn.neighbors import KNeighborsClassifier"
   ]
  },
  {
   "cell_type": "markdown",
   "metadata": {},
   "source": [
    "## Splitting & Fitting"
   ]
  },
  {
   "cell_type": "code",
   "execution_count": 137,
   "metadata": {
    "collapsed": false
   },
   "outputs": [
    {
     "data": {
      "text/plain": [
       "KNeighborsClassifier(algorithm='auto', leaf_size=30, metric='minkowski',\n",
       "           metric_params=None, n_jobs=1, n_neighbors=1, p=2,\n",
       "           weights='uniform')"
      ]
     },
     "execution_count": 137,
     "metadata": {},
     "output_type": "execute_result"
    }
   ],
   "source": [
    "X_train, X_test, y_train, y_test = train_test_split(X,y)\n",
    "knn = KNeighborsClassifier(n_neighbors=1)\n",
    "knn.fit(X_train, y_train)"
   ]
  },
  {
   "cell_type": "code",
   "execution_count": 138,
   "metadata": {
    "collapsed": false
   },
   "outputs": [
    {
     "name": "stdout",
     "output_type": "stream",
     "text": [
      "0.976\n"
     ]
    }
   ],
   "source": [
    "Y = knn.predict(X_test)\n",
    "accuricy = metrics.accuracy_score(y_test, Y)\n",
    "print (accuricy)"
   ]
  },
  {
   "cell_type": "markdown",
   "metadata": {},
   "source": [
    "### to verify accuracy more precisely, we will use cross validation"
   ]
  },
  {
   "cell_type": "code",
   "execution_count": 139,
   "metadata": {
    "collapsed": true
   },
   "outputs": [],
   "source": [
    "from sklearn.cross_validation import cross_val_score"
   ]
  },
  {
   "cell_type": "code",
   "execution_count": 140,
   "metadata": {
    "collapsed": false
   },
   "outputs": [],
   "source": [
    "knn = KNeighborsClassifier(n_neighbors=5)\n",
    "scores = cross_val_score(knn, X, y, cv=10, scoring='accuracy' )"
   ]
  },
  {
   "cell_type": "code",
   "execution_count": 141,
   "metadata": {
    "collapsed": false
   },
   "outputs": [
    {
     "name": "stdout",
     "output_type": "stream",
     "text": [
      "[ 0.9800995   0.98507463  0.85572139  1.          0.995       0.995\n",
      "  0.99497487  1.          0.98492462  0.90954774]\n"
     ]
    }
   ],
   "source": [
    "print(scores)"
   ]
  },
  {
   "cell_type": "code",
   "execution_count": 142,
   "metadata": {
    "collapsed": false
   },
   "outputs": [
    {
     "name": "stdout",
     "output_type": "stream",
     "text": [
      "0.970034275857\n"
     ]
    }
   ],
   "source": [
    "print (scores.mean())"
   ]
  },
  {
   "cell_type": "code",
   "execution_count": 143,
   "metadata": {
    "collapsed": false
   },
   "outputs": [
    {
     "name": "stdout",
     "output_type": "stream",
     "text": [
      "[0.94647874946873678, 0.97103678841971042, 0.96652668816720411, 0.97254432610815267, 0.9700342758568965, 0.97304683867096675, 0.97304683867096675, 0.97705942648566213, 0.97705942648566213, 0.97705942648566213, 0.97705942648566213, 0.97705942648566213, 0.97705942648566213, 0.97705942648566213, 0.97705942648566213, 0.97705942648566213, 0.97705942648566213, 0.97705942648566213, 0.97705942648566213]\n"
     ]
    }
   ],
   "source": [
    "kscores = []\n",
    "for k in range(1,20):\n",
    "    knn = KNeighborsClassifier(n_neighbors=k)\n",
    "    scores = cross_val_score(knn, X, y, cv=10, scoring='accuracy' )\n",
    "    kscores.append(scores.mean())\n",
    "print(kscores)"
   ]
  },
  {
   "cell_type": "code",
   "execution_count": 144,
   "metadata": {
    "collapsed": false
   },
   "outputs": [
    {
     "data": {
      "text/plain": [
       "<matplotlib.text.Text at 0xdb58320>"
      ]
     },
     "execution_count": 144,
     "metadata": {},
     "output_type": "execute_result"
    },
    {
     "data": {
      "image/png": "[encoded data removed]",
      "text/plain": [
       "<matplotlib.figure.Figure at 0xd9d17f0>"
      ]
     },
     "metadata": {},
     "output_type": "display_data"
    }
   ],
   "source": [
    "plt.plot(range(1,20) , kscores)\n",
    "plt.xlabel(\"K\")\n",
    "plt.ylabel('Accuracy')"
   ]
  },
  {
   "cell_type": "markdown",
   "metadata": {},
   "source": [
    " ### we choose the value for k to be 8"
   ]
  },
  {
   "cell_type": "markdown",
   "metadata": {
    "collapsed": true
   },
   "source": [
    "### To evaluate the effect of message size on the predection accuracy, we will drop the column 'Size' \n",
    "### and test again\n"
   ]
  },
  {
   "cell_type": "code",
   "execution_count": 145,
   "metadata": {
    "collapsed": false
   },
   "outputs": [
    {
     "name": "stdout",
     "output_type": "stream",
     "text": [
      "[ 0.60199005  0.39800995  0.51741294  0.75124378  0.91        0.82        1.\n",
      "  0.7839196   0.48743719  0.45226131]\n",
      "Average score = 0.672227480687\n"
     ]
    },
    {
     "data": {
      "text/plain": [
       "<matplotlib.text.Text at 0xdbca080>"
      ]
     },
     "execution_count": 145,
     "metadata": {},
     "output_type": "execute_result"
    },
    {
     "data": {
      "image/png": "[encoded data removed]",
      "text/plain": [
       "<matplotlib.figure.Figure at 0xdb5a550>"
      ]
     },
     "metadata": {},
     "output_type": "display_data"
    }
   ],
   "source": [
    "X = df [['Index', 'b1', 'b2', 'b3', 'b4']]\n",
    "y = df['Spam']\n",
    "\n",
    "X.head(2)\n",
    "\n",
    "knn = KNeighborsClassifier(n_neighbors=8)\n",
    "scores = cross_val_score(knn, X, y, cv=10, scoring='accuracy' )\n",
    "print(scores)\n",
    "print (\"Average score = %s\" % scores.mean())\n",
    "\n",
    "plt.plot(range(1,11) , scores)\n",
    "plt.xlabel(\"Kfolds\")\n",
    "plt.ylabel('Accuracy')\n",
    "\n"
   ]
  },
  {
   "cell_type": "markdown",
   "metadata": {},
   "source": [
    "### Repeat same step but dropping 'Index' column this time"
   ]
  },
  {
   "cell_type": "code",
   "execution_count": 146,
   "metadata": {
    "collapsed": false
   },
   "outputs": [
    {
     "name": "stdout",
     "output_type": "stream",
     "text": [
      "[ 0.9800995   0.99004975  0.84079602  1.          1.          1.          1.\n",
      "  1.          1.          0.94472362]\n",
      "Average score = 0.975566889172\n"
     ]
    },
    {
     "data": {
      "text/plain": [
       "<matplotlib.text.Text at 0xdc27898>"
      ]
     },
     "execution_count": 146,
     "metadata": {},
     "output_type": "execute_result"
    },
    {
     "data": {
      "image/png": "[encoded data removed]",
      "text/plain": [
       "<matplotlib.figure.Figure at 0xda73908>"
      ]
     },
     "metadata": {},
     "output_type": "display_data"
    }
   ],
   "source": [
    "X = df [['Size', 'b1', 'b2', 'b3', 'b4']]\n",
    "y = df['Spam']\n",
    "\n",
    "X.head(2)\n",
    "\n",
    "knn = KNeighborsClassifier(n_neighbors=8)\n",
    "scores = cross_val_score(knn, X, y, cv=10, scoring='accuracy' )\n",
    "print(scores)\n",
    "print (\"Average score = %s\" % scores.mean())\n",
    "\n",
    "plt.plot(range(1,11) , scores)\n",
    "plt.xlabel(\"Kfolds\")\n",
    "plt.ylabel('Accuracy')"
   ]
  },
  {
   "cell_type": "code",
   "execution_count": null,
   "metadata": {
    "collapsed": true
   },
   "outputs": [],
   "source": []
  }
 ],
 "metadata": {
  "anaconda-cloud": {},
  "kernelspec": {
   "display_name": "Python [conda root]",
   "language": "python",
   "name": "conda-root-py"
  },
  "language_info": {
   "codemirror_mode": {
    "name": "ipython",
    "version": 3
   },
   "file_extension": ".py",
   "mimetype": "text/x-python",
   "name": "python",
   "nbconvert_exporter": "python",
   "pygments_lexer": "ipython3",
   "version": "3.5.2"
  }
 },
 "nbformat": 4,
 "nbformat_minor": 1
}
