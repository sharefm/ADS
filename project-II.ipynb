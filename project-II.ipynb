{
 "cells": [
  {
   "cell_type": "markdown",
   "metadata": {},
   "source": [
    "## Project for Advanced Data Science course\n",
    "#### Loay Abdulatif & Sharef Mustafa\n",
    "\n",
    "\n",
    "### We are investigating the possibility of detecting spam via meta data instead of disclosing the content of the message it self\n",
    "\n",
    "### The motivation here is ethical , as usual methodologies used in anti spaming will check the contents of the message it self and thus violating people privacy"
   ]
  },
  {
   "cell_type": "code",
   "execution_count": 23,
   "metadata": {
    "collapsed": true
   },
   "outputs": [],
   "source": [
    "import pandas as pd\n",
    "import seaborn as sns\n",
    "import matplotlib.pyplot as plt\n",
    "import numpy as np\n",
    "%matplotlib inline"
   ]
  },
  {
   "cell_type": "markdown",
   "metadata": {},
   "source": [
    "## we start with parsing the log of a mail server as seen below this is a labled data since each row is representing an incoming email and the column 'Type' already classifies the email based on a commercial anti spam system"
   ]
  },
  {
   "cell_type": "code",
   "execution_count": 24,
   "metadata": {
    "collapsed": false
   },
   "outputs": [
    {
     "data": {
      "text/html": [
       "<div>\n",
       "<table border=\"1\" class=\"dataframe\">\n",
       "  <thead>\n",
       "    <tr style=\"text-align: right;\">\n",
       "      <th></th>\n",
       "      <th>Date</th>\n",
       "      <th>Msg Id</th>\n",
       "      <th>Client Address</th>\n",
       "      <th>Type</th>\n",
       "      <th>Score</th>\n",
       "      <th>From</th>\n",
       "      <th>To</th>\n",
       "      <th>Subject</th>\n",
       "      <th>Size</th>\n",
       "      <th>Virus Details</th>\n",
       "    </tr>\n",
       "  </thead>\n",
       "  <tbody>\n",
       "    <tr>\n",
       "      <th>0</th>\n",
       "      <td>5/11/2017 15:29</td>\n",
       "      <td>iJ1kYuEy-K0f</td>\n",
       "      <td>98.139.213.152</td>\n",
       "      <td>Clean</td>\n",
       "      <td>0.340</td>\n",
       "      <td>XXXXXXX@bellsouth.net</td>\n",
       "      <td>######@targetdomain.com</td>\n",
       "      <td>Second request كشف حساب ٢٠١٦</td>\n",
       "      <td>4331</td>\n",
       "      <td>NaN</td>\n",
       "    </tr>\n",
       "    <tr>\n",
       "      <th>1</th>\n",
       "      <td>5/11/2017 11:59</td>\n",
       "      <td>wXfZtBvH8F7S</td>\n",
       "      <td>98.139.213.148</td>\n",
       "      <td>Clean</td>\n",
       "      <td>-1.918</td>\n",
       "      <td>NaN</td>\n",
       "      <td>######@targetdomain.com</td>\n",
       "      <td>Delivery failure</td>\n",
       "      <td>5204</td>\n",
       "      <td>NaN</td>\n",
       "    </tr>\n",
       "    <tr>\n",
       "      <th>2</th>\n",
       "      <td>5/11/2017 15:15</td>\n",
       "      <td>POvVNhEZbKTS</td>\n",
       "      <td>98.138.121.119</td>\n",
       "      <td>Clean</td>\n",
       "      <td>-2.089</td>\n",
       "      <td>sdfs@yahoo.com</td>\n",
       "      <td>######@targetdomain.com</td>\n",
       "      <td>970nnnnnnnn</td>\n",
       "      <td>4395</td>\n",
       "      <td>NaN</td>\n",
       "    </tr>\n",
       "  </tbody>\n",
       "</table>\n",
       "</div>"
      ],
      "text/plain": [
       "              Date        Msg Id  Client Address   Type  Score  \\\n",
       "0  5/11/2017 15:29  iJ1kYuEy-K0f  98.139.213.152  Clean  0.340   \n",
       "1  5/11/2017 11:59  wXfZtBvH8F7S  98.139.213.148  Clean -1.918   \n",
       "2  5/11/2017 15:15  POvVNhEZbKTS  98.138.121.119  Clean -2.089   \n",
       "\n",
       "                    From                       To  \\\n",
       "0  XXXXXXX@bellsouth.net  ######@targetdomain.com   \n",
       "1                    NaN  ######@targetdomain.com   \n",
       "2         sdfs@yahoo.com  ######@targetdomain.com   \n",
       "\n",
       "                          Subject  Size  Virus Details  \n",
       "0    Second request كشف حساب ٢٠١٦  4331            NaN  \n",
       "1                Delivery failure  5204            NaN  \n",
       "2                     970nnnnnnnn  4395            NaN  "
      ]
     },
     "execution_count": 24,
     "metadata": {},
     "output_type": "execute_result"
    }
   ],
   "source": [
    "df = pd.read_csv('maildata.csv', error_bad_lines=False)\n",
    "df.head(3)"
   ]
  },
  {
   "cell_type": "code",
   "execution_count": 25,
   "metadata": {
    "collapsed": false
   },
   "outputs": [],
   "source": [
    "# pepare the data for modeling, \"Client Address\" text column will be replaced by 4 numerical\n",
    "# columns representing the 4 octets of the IP address\n",
    "b1 = []\n",
    "b2 = []\n",
    "b3 = []\n",
    "b4 = []\n",
    "\n",
    "for i in df['Client Address']:\n",
    "    ip = str(i).split('.')\n",
    "    b1.append(ip[0])\n",
    "    b2.append(ip[1])\n",
    "    b3.append(ip[2])\n",
    "    b4.append(ip[3])\n",
    "df['b1'] = pd.Series(b1)\n",
    "df['b2'] = pd.Series(b2)\n",
    "df['b3'] = pd.Series(b3)\n",
    "df['b4'] = pd.Series(b4)\n",
    "\n",
    "df.drop('Client Address',1, inplace=True)\n",
    "\n",
    "# replace Date column with a numerical column of index numbers \n",
    "df['Index'] = np.arange(len(df))\n",
    "df.drop('Date',1, inplace=True)\n",
    "\n",
    "#drop irrelavent columns \n",
    "df.drop('Virus Details',1, inplace=True)\n",
    "df.drop('Msg Id',1, inplace=True)\n",
    "df.dropna()\n",
    "\n",
    "# prepare the target column 'Spam' by replacing 6text values with 0|1 representing Ham|Spam respectivly\n",
    "# drop 'Type' column afterwarsd\n",
    "df['Spam'] = pd.Series( [ 0 if(str(i)=='Clean' or str(i)=='Whitelisted') else 1 for i in df['Type'] ])\n",
    "df.drop('Type',1, inplace=True)"
   ]
  },
  {
   "cell_type": "code",
   "execution_count": 26,
   "metadata": {
    "collapsed": false
   },
   "outputs": [
    {
     "data": {
      "text/html": [
       "<div>\n",
       "<table border=\"1\" class=\"dataframe\">\n",
       "  <thead>\n",
       "    <tr style=\"text-align: right;\">\n",
       "      <th></th>\n",
       "      <th>Score</th>\n",
       "      <th>From</th>\n",
       "      <th>To</th>\n",
       "      <th>Subject</th>\n",
       "      <th>Size</th>\n",
       "      <th>b1</th>\n",
       "      <th>b2</th>\n",
       "      <th>b3</th>\n",
       "      <th>b4</th>\n",
       "      <th>Index</th>\n",
       "      <th>Spam</th>\n",
       "    </tr>\n",
       "  </thead>\n",
       "  <tbody>\n",
       "    <tr>\n",
       "      <th>0</th>\n",
       "      <td>0.340</td>\n",
       "      <td>XXXXXXX@bellsouth.net</td>\n",
       "      <td>######@targetdomain.com</td>\n",
       "      <td>Second request كشف حساب ٢٠١٦</td>\n",
       "      <td>4331</td>\n",
       "      <td>98</td>\n",
       "      <td>139</td>\n",
       "      <td>213</td>\n",
       "      <td>152</td>\n",
       "      <td>0</td>\n",
       "      <td>0</td>\n",
       "    </tr>\n",
       "    <tr>\n",
       "      <th>1</th>\n",
       "      <td>-1.918</td>\n",
       "      <td>NaN</td>\n",
       "      <td>######@targetdomain.com</td>\n",
       "      <td>Delivery failure</td>\n",
       "      <td>5204</td>\n",
       "      <td>98</td>\n",
       "      <td>139</td>\n",
       "      <td>213</td>\n",
       "      <td>148</td>\n",
       "      <td>1</td>\n",
       "      <td>0</td>\n",
       "    </tr>\n",
       "    <tr>\n",
       "      <th>2</th>\n",
       "      <td>-2.089</td>\n",
       "      <td>sdfs@yahoo.com</td>\n",
       "      <td>######@targetdomain.com</td>\n",
       "      <td>970nnnnnnnn</td>\n",
       "      <td>4395</td>\n",
       "      <td>98</td>\n",
       "      <td>138</td>\n",
       "      <td>121</td>\n",
       "      <td>119</td>\n",
       "      <td>2</td>\n",
       "      <td>0</td>\n",
       "    </tr>\n",
       "  </tbody>\n",
       "</table>\n",
       "</div>"
      ],
      "text/plain": [
       "   Score                   From                       To  \\\n",
       "0  0.340  XXXXXXX@bellsouth.net  ######@targetdomain.com   \n",
       "1 -1.918                    NaN  ######@targetdomain.com   \n",
       "2 -2.089         sdfs@yahoo.com  ######@targetdomain.com   \n",
       "\n",
       "                          Subject  Size  b1   b2   b3   b4  Index  Spam  \n",
       "0    Second request كشف حساب ٢٠١٦  4331  98  139  213  152      0     0  \n",
       "1                Delivery failure  5204  98  139  213  148      1     0  \n",
       "2                     970nnnnnnnn  4395  98  138  121  119      2     0  "
      ]
     },
     "execution_count": 26,
     "metadata": {},
     "output_type": "execute_result"
    }
   ],
   "source": [
    "df.head(3)"
   ]
  },
  {
   "cell_type": "markdown",
   "metadata": {
    "collapsed": false
   },
   "source": [
    "## from the above we see that some critical columns are still in text and can not be replaced by numerical values, so we will use the numerical features only for now"
   ]
  },
  {
   "cell_type": "code",
   "execution_count": 27,
   "metadata": {
    "collapsed": false
   },
   "outputs": [],
   "source": [
    "X = df [['Index', 'Size', 'b1', 'b2', 'b3', 'b4']]\n",
    "y = df['Spam']\n"
   ]
  },
  {
   "cell_type": "code",
   "execution_count": 28,
   "metadata": {
    "collapsed": false
   },
   "outputs": [
    {
     "data": {
      "text/html": [
       "<div>\n",
       "<table border=\"1\" class=\"dataframe\">\n",
       "  <thead>\n",
       "    <tr style=\"text-align: right;\">\n",
       "      <th></th>\n",
       "      <th>Index</th>\n",
       "      <th>Size</th>\n",
       "      <th>b1</th>\n",
       "      <th>b2</th>\n",
       "      <th>b3</th>\n",
       "      <th>b4</th>\n",
       "    </tr>\n",
       "  </thead>\n",
       "  <tbody>\n",
       "    <tr>\n",
       "      <th>0</th>\n",
       "      <td>0</td>\n",
       "      <td>4331</td>\n",
       "      <td>98</td>\n",
       "      <td>139</td>\n",
       "      <td>213</td>\n",
       "      <td>152</td>\n",
       "    </tr>\n",
       "    <tr>\n",
       "      <th>1</th>\n",
       "      <td>1</td>\n",
       "      <td>5204</td>\n",
       "      <td>98</td>\n",
       "      <td>139</td>\n",
       "      <td>213</td>\n",
       "      <td>148</td>\n",
       "    </tr>\n",
       "  </tbody>\n",
       "</table>\n",
       "</div>"
      ],
      "text/plain": [
       "   Index  Size  b1   b2   b3   b4\n",
       "0      0  4331  98  139  213  152\n",
       "1      1  5204  98  139  213  148"
      ]
     },
     "execution_count": 28,
     "metadata": {},
     "output_type": "execute_result"
    }
   ],
   "source": [
    "X.head(2)"
   ]
  },
  {
   "cell_type": "code",
   "execution_count": 29,
   "metadata": {
    "collapsed": false
   },
   "outputs": [],
   "source": [
    "from sklearn import metrics\n",
    "from sklearn.cross_validation import train_test_split\n",
    "from sklearn.neighbors import KNeighborsClassifier"
   ]
  },
  {
   "cell_type": "markdown",
   "metadata": {},
   "source": [
    "## Splitting & Fitting"
   ]
  },
  {
   "cell_type": "code",
   "execution_count": 30,
   "metadata": {
    "collapsed": false
   },
   "outputs": [
    {
     "data": {
      "text/plain": [
       "KNeighborsClassifier(algorithm='auto', leaf_size=30, metric='minkowski',\n",
       "           metric_params=None, n_jobs=1, n_neighbors=1, p=2,\n",
       "           weights='uniform')"
      ]
     },
     "execution_count": 30,
     "metadata": {},
     "output_type": "execute_result"
    }
   ],
   "source": [
    "X_train, X_test, y_train, y_test = train_test_split(X,y)\n",
    "\n",
    "knn = KNeighborsClassifier(n_neighbors=1)\n",
    "\n",
    "knn.fit(X_train, y_train)\n"
   ]
  },
  {
   "cell_type": "code",
   "execution_count": 31,
   "metadata": {
    "collapsed": false
   },
   "outputs": [],
   "source": [
    "Y = knn.predict(X_test)"
   ]
  },
  {
   "cell_type": "code",
   "execution_count": 32,
   "metadata": {
    "collapsed": true
   },
   "outputs": [],
   "source": [
    "accuricy = metrics.accuracy_score(y_test, Y)"
   ]
  },
  {
   "cell_type": "code",
   "execution_count": 33,
   "metadata": {
    "collapsed": false
   },
   "outputs": [
    {
     "name": "stdout",
     "output_type": "stream",
     "text": [
      "0.97\n"
     ]
    }
   ],
   "source": [
    "print (accuricy)"
   ]
  },
  {
   "cell_type": "markdown",
   "metadata": {},
   "source": [
    "### to verify accuracy more precisely, we will use cross validation"
   ]
  },
  {
   "cell_type": "code",
   "execution_count": 34,
   "metadata": {
    "collapsed": true
   },
   "outputs": [],
   "source": [
    "from sklearn.cross_validation import cross_val_score\n"
   ]
  },
  {
   "cell_type": "code",
   "execution_count": 35,
   "metadata": {
    "collapsed": false
   },
   "outputs": [],
   "source": [
    "knn = KNeighborsClassifier(n_neighbors=5)\n",
    "scores = cross_val_score(knn, X, y, cv=10, scoring='accuracy' )"
   ]
  },
  {
   "cell_type": "code",
   "execution_count": 36,
   "metadata": {
    "collapsed": false
   },
   "outputs": [
    {
     "name": "stdout",
     "output_type": "stream",
     "text": [
      "[ 0.9800995   0.98507463  0.85572139  1.          0.995       0.995\n",
      "  0.99497487  1.          0.98492462  0.90954774]\n"
     ]
    }
   ],
   "source": [
    "print(scores)"
   ]
  },
  {
   "cell_type": "code",
   "execution_count": 37,
   "metadata": {
    "collapsed": false
   },
   "outputs": [
    {
     "name": "stdout",
     "output_type": "stream",
     "text": [
      "0.970034275857\n"
     ]
    }
   ],
   "source": [
    "print (scores.mean())"
   ]
  },
  {
   "cell_type": "code",
   "execution_count": 38,
   "metadata": {
    "collapsed": false
   },
   "outputs": [
    {
     "name": "stdout",
     "output_type": "stream",
     "text": [
      "[0.94647874946873678, 0.97103678841971042, 0.96652668816720411, 0.97254432610815267, 0.9700342758568965, 0.97304683867096675, 0.97304683867096675, 0.97705942648566213, 0.97705942648566213, 0.97705942648566213, 0.97705942648566213, 0.97705942648566213, 0.97705942648566213, 0.97705942648566213, 0.97705942648566213, 0.97705942648566213, 0.97705942648566213, 0.97705942648566213, 0.97705942648566213]\n"
     ]
    }
   ],
   "source": [
    "kscores = []\n",
    "for k in range(1,20):\n",
    "    knn = KNeighborsClassifier(n_neighbors=k)\n",
    "    scores = cross_val_score(knn, X, y, cv=10, scoring='accuracy' )\n",
    "    kscores.append(scores.mean())\n",
    "print(kscores)"
   ]
  },
  {
   "cell_type": "code",
   "execution_count": 39,
   "metadata": {
    "collapsed": false
   },
   "outputs": [
    {
     "data": {
      "text/plain": [
       "<matplotlib.text.Text at 0xb9e0cf8>"
      ]
     },
     "execution_count": 39,
     "metadata": {},
     "output_type": "execute_result"
    },
    {
     "data": {
      "image/png": "[encoded data removed]",
      "text/plain": [
       "<matplotlib.figure.Figure at 0xb742588>"
      ]
     },
     "metadata": {},
     "output_type": "display_data"
    }
   ],
   "source": [
    "plt.plot(range(1,20) , kscores)\n",
    "plt.xlabel(\"K\")\n",
    "plt.ylabel('Accuracy')"
   ]
  },
  {
   "cell_type": "markdown",
   "metadata": {},
   "source": [
    "## initially we will chose k=8 or above\n",
    "## next step is to compare results with Logestic Regression\n"
   ]
  },
  {
   "cell_type": "code",
   "execution_count": null,
   "metadata": {
    "collapsed": true
   },
   "outputs": [],
   "source": []
  }
 ],
 "metadata": {
  "anaconda-cloud": {},
  "kernelspec": {
   "display_name": "Python [conda root]",
   "language": "python",
   "name": "conda-root-py"
  },
  "language_info": {
   "codemirror_mode": {
    "name": "ipython",
    "version": 3
   },
   "file_extension": ".py",
   "mimetype": "text/x-python",
   "name": "python",
   "nbconvert_exporter": "python",
   "pygments_lexer": "ipython3",
   "version": "3.5.2"
  }
 },
 "nbformat": 4,
 "nbformat_minor": 1
}
