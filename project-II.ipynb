{
 "cells": [
  {
   "cell_type": "markdown",
   "metadata": {},
   "source": [
    "## Project for Advanced Data Science course\n",
    "#### Loay Abdulatif & Sharef Mustafa\n",
    "\n",
    "\n",
    "### We are investigating the possibility of detecting spam via meta data instead of disclosing the content of the message it self\n",
    "\n",
    "### The motivation here is ethical , since usual anti spaming solutions will check the contents of the message it self and thus violating people privacy"
   ]
  },
  {
   "cell_type": "code",
   "execution_count": 229,
   "metadata": {
    "collapsed": true
   },
   "outputs": [],
   "source": [
    "import pandas as pd\n",
    "import seaborn as sns\n",
    "import matplotlib.pyplot as plt\n",
    "import numpy as np\n",
    "%matplotlib inline"
   ]
  },
  {
   "cell_type": "markdown",
   "metadata": {},
   "source": [
    "## we start with parsing the log of a mail server, as seen below this is a labled data since each row is representing an incoming email and the column 'Type' already classifies the email based on a commercial anti spam system"
   ]
  },
  {
   "cell_type": "code",
   "execution_count": 230,
   "metadata": {
    "collapsed": false
   },
   "outputs": [
    {
     "data": {
      "text/html": [
       "<div>\n",
       "<table border=\"1\" class=\"dataframe\">\n",
       "  <thead>\n",
       "    <tr style=\"text-align: right;\">\n",
       "      <th></th>\n",
       "      <th>Date</th>\n",
       "      <th>Msg Id</th>\n",
       "      <th>Client Address</th>\n",
       "      <th>Type</th>\n",
       "      <th>Score</th>\n",
       "      <th>From</th>\n",
       "      <th>To</th>\n",
       "      <th>Subject</th>\n",
       "      <th>Size</th>\n",
       "      <th>Virus Details</th>\n",
       "    </tr>\n",
       "  </thead>\n",
       "  <tbody>\n",
       "    <tr>\n",
       "      <th>0</th>\n",
       "      <td>5/11/2017 15:29</td>\n",
       "      <td>iJ1kYuEy-K0f</td>\n",
       "      <td>98.139.213.152</td>\n",
       "      <td>Clean</td>\n",
       "      <td>0.340</td>\n",
       "      <td>XXXXXXX@bellsouth.net</td>\n",
       "      <td>######@targetdomain.com</td>\n",
       "      <td>Second request كشف حساب ٢٠١٦</td>\n",
       "      <td>4331</td>\n",
       "      <td>NaN</td>\n",
       "    </tr>\n",
       "    <tr>\n",
       "      <th>1</th>\n",
       "      <td>5/11/2017 11:59</td>\n",
       "      <td>wXfZtBvH8F7S</td>\n",
       "      <td>98.139.213.148</td>\n",
       "      <td>Clean</td>\n",
       "      <td>-1.918</td>\n",
       "      <td>NaN</td>\n",
       "      <td>######@targetdomain.com</td>\n",
       "      <td>Delivery failure</td>\n",
       "      <td>5204</td>\n",
       "      <td>NaN</td>\n",
       "    </tr>\n",
       "    <tr>\n",
       "      <th>2</th>\n",
       "      <td>5/11/2017 15:15</td>\n",
       "      <td>POvVNhEZbKTS</td>\n",
       "      <td>98.138.121.119</td>\n",
       "      <td>Clean</td>\n",
       "      <td>-2.089</td>\n",
       "      <td>sdfs@yahoo.com</td>\n",
       "      <td>######@targetdomain.com</td>\n",
       "      <td>970nnnnnnnn</td>\n",
       "      <td>4395</td>\n",
       "      <td>NaN</td>\n",
       "    </tr>\n",
       "  </tbody>\n",
       "</table>\n",
       "</div>"
      ],
      "text/plain": [
       "              Date        Msg Id  Client Address   Type  Score  \\\n",
       "0  5/11/2017 15:29  iJ1kYuEy-K0f  98.139.213.152  Clean  0.340   \n",
       "1  5/11/2017 11:59  wXfZtBvH8F7S  98.139.213.148  Clean -1.918   \n",
       "2  5/11/2017 15:15  POvVNhEZbKTS  98.138.121.119  Clean -2.089   \n",
       "\n",
       "                    From                       To  \\\n",
       "0  XXXXXXX@bellsouth.net  ######@targetdomain.com   \n",
       "1                    NaN  ######@targetdomain.com   \n",
       "2         sdfs@yahoo.com  ######@targetdomain.com   \n",
       "\n",
       "                          Subject  Size  Virus Details  \n",
       "0    Second request كشف حساب ٢٠١٦  4331            NaN  \n",
       "1                Delivery failure  5204            NaN  \n",
       "2                     970nnnnnnnn  4395            NaN  "
      ]
     },
     "execution_count": 230,
     "metadata": {},
     "output_type": "execute_result"
    }
   ],
   "source": [
    "df = pd.read_csv('maildata.csv', error_bad_lines=False)\n",
    "df.head(3)"
   ]
  },
  {
   "cell_type": "markdown",
   "metadata": {},
   "source": [
    "### pepare the data for modeling, \"Client Address\" text column will be replaced by a 'Frequency' column representiung number of messages received from that Ip address"
   ]
  },
  {
   "cell_type": "code",
   "execution_count": 231,
   "metadata": {
    "collapsed": false
   },
   "outputs": [
    {
     "name": "stdout",
     "output_type": "stream",
     "text": [
      "\n",
      " Number of total sender IP addresses is 547 \n",
      "\n",
      " avg # of messages per sender is 3.6563071298 \n",
      "\n",
      "The least frequency in the top 10 highest aenders is 26\n",
      "['185.18.254.52', '217.66.226.211', '213.244.116.212', '212.14.225.41', '217.66.226.23', '5.196.130.167', '212.14.225.42', '192.116.17.51', '82.213.33.184']\n"
     ]
    }
   ],
   "source": [
    "from collections import Counter\n",
    "import heapq\n",
    "\n",
    "sendersFrequency = Counter(df['Client Address'])\n",
    "\n",
    "df['Frequency']= pd.Series([ sendersFrequency[i] for i in df['Client Address'] ])\n",
    "\n",
    "print('\\n Number of total sender IP addresses is %s ' %len(sendersFrequency))\n",
    "\n",
    "print('\\n avg # of messages per sender is %s ' %np.mean( np.array( list(sendersFrequency.values() )  ) )) \n",
    "\n",
    "# find top 10 messages per sender \n",
    "topFrequencies = heapq.nlargest(10, list(sendersFrequency.values() ))\n",
    "\n",
    "# the least amount of messages per sender in the top 10 \n",
    "print('\\nThe least frequency in the top 10 highest aenders is %s' %min(topFrequencies))\n",
    "\n",
    "# find top 10 sender IP addresses\n",
    "topSenders = [i for i in sendersFrequency.keys() if sendersFrequency[i]>min(topFrequencies) ]\n",
    "print(topSenders)\n",
    "\n",
    "\n"
   ]
  },
  {
   "cell_type": "markdown",
   "metadata": {},
   "source": [
    "## check dns names of top sender IP addresses"
   ]
  },
  {
   "cell_type": "code",
   "execution_count": 232,
   "metadata": {
    "collapsed": false
   },
   "outputs": [
    {
     "name": "stdout",
     "output_type": "stream",
     "text": [
      "185.18.254.52 mail.ponyexpress.kz 77\n",
      "217.66.226.211 No ptr record  81\n",
      "213.244.116.212 gateway02.hulul.com 33\n",
      "212.14.225.41 Gateway01.pgfoundation.ps 96\n",
      "217.66.226.23 red.hadara.ps 65\n",
      "5.196.130.167 smtp.ovh.ltutech.net 34\n",
      "212.14.225.42 gateway02.paltelgroup.ps 96\n",
      "192.116.17.51 dogbert.palnet.com 465\n",
      "82.213.33.184 PTR01.reach.ps 90\n"
     ]
    }
   ],
   "source": [
    "import socket\n",
    "for x in topSenders:\n",
    "    try:\n",
    "        hostname, aliases, hostip = socket.gethostbyaddr(x)\n",
    "        print(x, hostname, sendersFrequency[x] )\n",
    "    except:\n",
    "        print(x, \"No ptr record \" , sendersFrequency[x] )"
   ]
  },
  {
   "cell_type": "code",
   "execution_count": 233,
   "metadata": {
    "collapsed": false
   },
   "outputs": [
    {
     "data": {
      "image/png": "[encoded data removed]",
      "text/plain": [
       "<matplotlib.figure.Figure at 0xd4a3080>"
      ]
     },
     "metadata": {},
     "output_type": "display_data"
    }
   ],
   "source": [
    "# indexes will facilitate in drawing as index of IP addresses\n",
    "indexes = np.arange(len(sendersFrequency))\n",
    "\n",
    "plt.bar(indexes, sendersFrequency.values() ,width=5)\n",
    "#plt.xticks(indexes, sendersFrequency.keys())\n",
    "\n",
    "plt.xlabel(\"Client IP Addresses\")\n",
    "plt.ylabel(\"Number of emails\")\n",
    "plt.show()"
   ]
  },
  {
   "cell_type": "markdown",
   "metadata": {},
   "source": [
    "### replace Date column with 3 numerical column of Year, Month and Day"
   ]
  },
  {
   "cell_type": "code",
   "execution_count": 234,
   "metadata": {
    "collapsed": false
   },
   "outputs": [
    {
     "data": {
      "text/html": [
       "<div>\n",
       "<table border=\"1\" class=\"dataframe\">\n",
       "  <thead>\n",
       "    <tr style=\"text-align: right;\">\n",
       "      <th></th>\n",
       "      <th>Msg Id</th>\n",
       "      <th>Client Address</th>\n",
       "      <th>Type</th>\n",
       "      <th>Score</th>\n",
       "      <th>From</th>\n",
       "      <th>To</th>\n",
       "      <th>Subject</th>\n",
       "      <th>Size</th>\n",
       "      <th>Virus Details</th>\n",
       "      <th>Frequency</th>\n",
       "      <th>Day</th>\n",
       "      <th>Month</th>\n",
       "      <th>Year</th>\n",
       "    </tr>\n",
       "  </thead>\n",
       "  <tbody>\n",
       "    <tr>\n",
       "      <th>0</th>\n",
       "      <td>iJ1kYuEy-K0f</td>\n",
       "      <td>98.139.213.152</td>\n",
       "      <td>Clean</td>\n",
       "      <td>0.340</td>\n",
       "      <td>XXXXXXX@bellsouth.net</td>\n",
       "      <td>######@targetdomain.com</td>\n",
       "      <td>Second request كشف حساب ٢٠١٦</td>\n",
       "      <td>4331</td>\n",
       "      <td>NaN</td>\n",
       "      <td>1</td>\n",
       "      <td>11</td>\n",
       "      <td>5</td>\n",
       "      <td>2017</td>\n",
       "    </tr>\n",
       "    <tr>\n",
       "      <th>1</th>\n",
       "      <td>wXfZtBvH8F7S</td>\n",
       "      <td>98.139.213.148</td>\n",
       "      <td>Clean</td>\n",
       "      <td>-1.918</td>\n",
       "      <td>NaN</td>\n",
       "      <td>######@targetdomain.com</td>\n",
       "      <td>Delivery failure</td>\n",
       "      <td>5204</td>\n",
       "      <td>NaN</td>\n",
       "      <td>1</td>\n",
       "      <td>11</td>\n",
       "      <td>5</td>\n",
       "      <td>2017</td>\n",
       "    </tr>\n",
       "    <tr>\n",
       "      <th>2</th>\n",
       "      <td>POvVNhEZbKTS</td>\n",
       "      <td>98.138.121.119</td>\n",
       "      <td>Clean</td>\n",
       "      <td>-2.089</td>\n",
       "      <td>sdfs@yahoo.com</td>\n",
       "      <td>######@targetdomain.com</td>\n",
       "      <td>970nnnnnnnn</td>\n",
       "      <td>4395</td>\n",
       "      <td>NaN</td>\n",
       "      <td>2</td>\n",
       "      <td>11</td>\n",
       "      <td>5</td>\n",
       "      <td>2017</td>\n",
       "    </tr>\n",
       "    <tr>\n",
       "      <th>3</th>\n",
       "      <td>XC-dBX2umDuU</td>\n",
       "      <td>98.138.121.119</td>\n",
       "      <td>Clean</td>\n",
       "      <td>-2.089</td>\n",
       "      <td>sdfs@yahoo.com</td>\n",
       "      <td>######@targetdomain.com</td>\n",
       "      <td>970nnnnnnnn</td>\n",
       "      <td>4397</td>\n",
       "      <td>NaN</td>\n",
       "      <td>2</td>\n",
       "      <td>11</td>\n",
       "      <td>5</td>\n",
       "      <td>2017</td>\n",
       "    </tr>\n",
       "    <tr>\n",
       "      <th>4</th>\n",
       "      <td>7Uq1GwJynKMh</td>\n",
       "      <td>98.136.218.253</td>\n",
       "      <td>Clean</td>\n",
       "      <td>-4.508</td>\n",
       "      <td>XXXXXXX@yahoo.com</td>\n",
       "      <td>######@targetdomain.com</td>\n",
       "      <td>Re: رسالة قائمة  المهنية</td>\n",
       "      <td>11114</td>\n",
       "      <td>NaN</td>\n",
       "      <td>1</td>\n",
       "      <td>11</td>\n",
       "      <td>5</td>\n",
       "      <td>2017</td>\n",
       "    </tr>\n",
       "  </tbody>\n",
       "</table>\n",
       "</div>"
      ],
      "text/plain": [
       "         Msg Id  Client Address   Type  Score                   From  \\\n",
       "0  iJ1kYuEy-K0f  98.139.213.152  Clean  0.340  XXXXXXX@bellsouth.net   \n",
       "1  wXfZtBvH8F7S  98.139.213.148  Clean -1.918                    NaN   \n",
       "2  POvVNhEZbKTS  98.138.121.119  Clean -2.089         sdfs@yahoo.com   \n",
       "3  XC-dBX2umDuU  98.138.121.119  Clean -2.089         sdfs@yahoo.com   \n",
       "4  7Uq1GwJynKMh  98.136.218.253  Clean -4.508      XXXXXXX@yahoo.com   \n",
       "\n",
       "                        To                         Subject   Size  \\\n",
       "0  ######@targetdomain.com    Second request كشف حساب ٢٠١٦   4331   \n",
       "1  ######@targetdomain.com                Delivery failure   5204   \n",
       "2  ######@targetdomain.com                     970nnnnnnnn   4395   \n",
       "3  ######@targetdomain.com                     970nnnnnnnn   4397   \n",
       "4  ######@targetdomain.com        Re: رسالة قائمة  المهنية  11114   \n",
       "\n",
       "   Virus Details  Frequency  Day  Month  Year  \n",
       "0            NaN          1   11      5  2017  \n",
       "1            NaN          1   11      5  2017  \n",
       "2            NaN          2   11      5  2017  \n",
       "3            NaN          2   11      5  2017  \n",
       "4            NaN          1   11      5  2017  "
      ]
     },
     "execution_count": 234,
     "metadata": {},
     "output_type": "execute_result"
    }
   ],
   "source": [
    "df['Date'] = pd.to_datetime(df['Date'], errors = 'coerce')\n",
    "df['Day'] = pd.Series([ i.day for i in df['Date'] ])\n",
    "df['Month'] = pd.Series([ i.month for i in df['Date'] ])\n",
    "df['Year'] = pd.Series([ i.year for i in df['Date'] ])\n",
    "\n",
    "df.drop('Date', 1, inplace=True )\n",
    "df.head()\n"
   ]
  },
  {
   "cell_type": "markdown",
   "metadata": {},
   "source": [
    "## 'Subject' will be replaced by SubjectLen representing the length of the subject line, "
   ]
  },
  {
   "cell_type": "code",
   "execution_count": 235,
   "metadata": {
    "collapsed": false
   },
   "outputs": [],
   "source": [
    "df['SubjectLen'] = pd.Series( [ len(str(i)) for i in df['Subject'] ])"
   ]
  },
  {
   "cell_type": "markdown",
   "metadata": {},
   "source": [
    "### drop irrelavent columns , also dropping 'Score' to avoid any correlation from it with the output"
   ]
  },
  {
   "cell_type": "code",
   "execution_count": 236,
   "metadata": {
    "collapsed": false
   },
   "outputs": [
    {
     "data": {
      "text/html": [
       "<div>\n",
       "<table border=\"1\" class=\"dataframe\">\n",
       "  <thead>\n",
       "    <tr style=\"text-align: right;\">\n",
       "      <th></th>\n",
       "      <th>Type</th>\n",
       "      <th>Size</th>\n",
       "      <th>Frequency</th>\n",
       "      <th>Day</th>\n",
       "      <th>Month</th>\n",
       "      <th>Year</th>\n",
       "      <th>SubjectLen</th>\n",
       "    </tr>\n",
       "  </thead>\n",
       "  <tbody>\n",
       "    <tr>\n",
       "      <th>0</th>\n",
       "      <td>Clean</td>\n",
       "      <td>4331</td>\n",
       "      <td>1</td>\n",
       "      <td>11</td>\n",
       "      <td>5</td>\n",
       "      <td>2017</td>\n",
       "      <td>30</td>\n",
       "    </tr>\n",
       "    <tr>\n",
       "      <th>1</th>\n",
       "      <td>Clean</td>\n",
       "      <td>5204</td>\n",
       "      <td>1</td>\n",
       "      <td>11</td>\n",
       "      <td>5</td>\n",
       "      <td>2017</td>\n",
       "      <td>16</td>\n",
       "    </tr>\n",
       "    <tr>\n",
       "      <th>2</th>\n",
       "      <td>Clean</td>\n",
       "      <td>4395</td>\n",
       "      <td>2</td>\n",
       "      <td>11</td>\n",
       "      <td>5</td>\n",
       "      <td>2017</td>\n",
       "      <td>11</td>\n",
       "    </tr>\n",
       "  </tbody>\n",
       "</table>\n",
       "</div>"
      ],
      "text/plain": [
       "    Type  Size  Frequency  Day  Month  Year  SubjectLen\n",
       "0  Clean  4331          1   11      5  2017          30\n",
       "1  Clean  5204          1   11      5  2017          16\n",
       "2  Clean  4395          2   11      5  2017          11"
      ]
     },
     "execution_count": 236,
     "metadata": {},
     "output_type": "execute_result"
    }
   ],
   "source": [
    "df.drop('Virus Details',1, inplace=True)\n",
    "df.drop('Msg Id',1, inplace=True)\n",
    "df.dropna()\n",
    "\n",
    "df.drop('Score',1, inplace=True)\n",
    "\n",
    "df.drop('Client Address',1, inplace=True)\n",
    "\n",
    "df.drop('From',1, inplace=True)\n",
    "\n",
    "df.drop('To',1, inplace=True)\n",
    "\n",
    "# convert null subjects to a empty string\n",
    "df.replace(np.nan, '', regex=True, inplace=True)\n",
    "\n",
    "# drop subject\n",
    "df.drop('Subject',1, inplace=True)\n",
    "\n",
    "df.head(3)"
   ]
  },
  {
   "cell_type": "markdown",
   "metadata": {},
   "source": [
    "### prepare the target column 'Spam' by replacing text values with 0|1 representing Ham|Spam respectivly\n",
    "### drop 'Type' column afterwarsd\n"
   ]
  },
  {
   "cell_type": "code",
   "execution_count": 237,
   "metadata": {
    "collapsed": false
   },
   "outputs": [
    {
     "data": {
      "text/html": [
       "<div>\n",
       "<table border=\"1\" class=\"dataframe\">\n",
       "  <thead>\n",
       "    <tr style=\"text-align: right;\">\n",
       "      <th></th>\n",
       "      <th>Size</th>\n",
       "      <th>Frequency</th>\n",
       "      <th>Day</th>\n",
       "      <th>Month</th>\n",
       "      <th>Year</th>\n",
       "      <th>SubjectLen</th>\n",
       "      <th>Spam</th>\n",
       "    </tr>\n",
       "  </thead>\n",
       "  <tbody>\n",
       "    <tr>\n",
       "      <th>0</th>\n",
       "      <td>4331</td>\n",
       "      <td>1</td>\n",
       "      <td>11</td>\n",
       "      <td>5</td>\n",
       "      <td>2017</td>\n",
       "      <td>30</td>\n",
       "      <td>0</td>\n",
       "    </tr>\n",
       "    <tr>\n",
       "      <th>1</th>\n",
       "      <td>5204</td>\n",
       "      <td>1</td>\n",
       "      <td>11</td>\n",
       "      <td>5</td>\n",
       "      <td>2017</td>\n",
       "      <td>16</td>\n",
       "      <td>0</td>\n",
       "    </tr>\n",
       "    <tr>\n",
       "      <th>2</th>\n",
       "      <td>4395</td>\n",
       "      <td>2</td>\n",
       "      <td>11</td>\n",
       "      <td>5</td>\n",
       "      <td>2017</td>\n",
       "      <td>11</td>\n",
       "      <td>0</td>\n",
       "    </tr>\n",
       "  </tbody>\n",
       "</table>\n",
       "</div>"
      ],
      "text/plain": [
       "   Size  Frequency  Day  Month  Year  SubjectLen  Spam\n",
       "0  4331          1   11      5  2017          30     0\n",
       "1  5204          1   11      5  2017          16     0\n",
       "2  4395          2   11      5  2017          11     0"
      ]
     },
     "execution_count": 237,
     "metadata": {},
     "output_type": "execute_result"
    }
   ],
   "source": [
    "df['Spam'] = pd.Series( [ 0 if(str(i)=='Clean' or str(i)=='Whitelisted') else 1 for i in df['Type'] ])\n",
    "df.drop('Type',1, inplace=True) \n",
    "df.head(3)"
   ]
  },
  {
   "cell_type": "markdown",
   "metadata": {},
   "source": [
    "## Splitting & Fitting using CrossValidation"
   ]
  },
  {
   "cell_type": "code",
   "execution_count": 238,
   "metadata": {
    "collapsed": false
   },
   "outputs": [],
   "source": [
    "from sklearn import metrics\n",
    "from sklearn.cross_validation import train_test_split\n",
    "# features\n",
    "X = df.drop('Spam', 1)\n",
    "\n",
    "# Target\n",
    "y = df['Spam']\n",
    "\n",
    "X_train, X_test, y_train, y_test = train_test_split(X,y)\n"
   ]
  },
  {
   "cell_type": "markdown",
   "metadata": {},
   "source": [
    "## Use KNN for classification"
   ]
  },
  {
   "cell_type": "code",
   "execution_count": 239,
   "metadata": {
    "collapsed": false
   },
   "outputs": [
    {
     "name": "stdout",
     "output_type": "stream",
     "text": [
      "0.962\n"
     ]
    }
   ],
   "source": [
    "from sklearn.neighbors import KNeighborsClassifier\n",
    "knn = KNeighborsClassifier(n_neighbors=1)\n",
    "knn.fit(X_train , y_train)\n",
    "Y = knn.predict(X_test)\n",
    "accuricy = metrics.accuracy_score(y_test, Y)\n",
    "print (accuricy)"
   ]
  },
  {
   "cell_type": "markdown",
   "metadata": {},
   "source": [
    "### to verify accuracy find best value for K"
   ]
  },
  {
   "cell_type": "code",
   "execution_count": 240,
   "metadata": {
    "collapsed": true
   },
   "outputs": [],
   "source": [
    "from sklearn.cross_validation import cross_val_score"
   ]
  },
  {
   "cell_type": "code",
   "execution_count": 241,
   "metadata": {
    "collapsed": false
   },
   "outputs": [],
   "source": [
    "knn = KNeighborsClassifier()\n",
    "scores = cross_val_score(knn, X, y, cv=10, scoring='accuracy' )"
   ]
  },
  {
   "cell_type": "code",
   "execution_count": 242,
   "metadata": {
    "collapsed": false
   },
   "outputs": [
    {
     "name": "stdout",
     "output_type": "stream",
     "text": [
      "[ 0.9800995   0.98507463  0.84079602  1.          1.          0.995       1.\n",
      "  1.          0.98492462  0.94472362]\n"
     ]
    }
   ],
   "source": [
    "print(scores)"
   ]
  },
  {
   "cell_type": "code",
   "execution_count": 243,
   "metadata": {
    "collapsed": false
   },
   "outputs": [
    {
     "name": "stdout",
     "output_type": "stream",
     "text": [
      "0.973061839046\n"
     ]
    }
   ],
   "source": [
    "print (scores.mean())"
   ]
  },
  {
   "cell_type": "code",
   "execution_count": 244,
   "metadata": {
    "collapsed": false
   },
   "outputs": [
    {
     "name": "stdout",
     "output_type": "stream",
     "text": [
      "[0.95504390109752735, 0.97354935123378072, 0.96706420160504014, 0.97655691392284805, 0.97306183904597598, 0.97555688892222303, 0.97406435160879012, 0.97705942648566213, 0.97556688917222922, 0.97705942648566213, 0.97705942648566213, 0.97705942648566213, 0.97705942648566213, 0.97705942648566213, 0.97705942648566213, 0.97705942648566213, 0.97705942648566213, 0.97705942648566213, 0.97705942648566213]\n"
     ]
    }
   ],
   "source": [
    "kscores = []\n",
    "for k in range(1,20):\n",
    "    knn = KNeighborsClassifier(n_neighbors=k)\n",
    "    scores = cross_val_score(knn, X, y, cv=10, scoring='accuracy' )\n",
    "    kscores.append(scores.mean())\n",
    "print(kscores)"
   ]
  },
  {
   "cell_type": "code",
   "execution_count": 245,
   "metadata": {
    "collapsed": false
   },
   "outputs": [
    {
     "data": {
      "text/plain": [
       "<matplotlib.text.Text at 0xd9d0f28>"
      ]
     },
     "execution_count": 245,
     "metadata": {},
     "output_type": "execute_result"
    },
    {
     "data": {
      "image/png": "[encoded data removed]",
      "text/plain": [
       "<matplotlib.figure.Figure at 0xcfb3f98>"
      ]
     },
     "metadata": {},
     "output_type": "display_data"
    }
   ],
   "source": [
    "plt.plot(range(1,20) , kscores)\n",
    "plt.xlabel(\"K\")\n",
    "plt.ylabel('Accuracy')"
   ]
  },
  {
   "cell_type": "markdown",
   "metadata": {},
   "source": [
    " ### we choose the value for k to be 10 for proper percentage of accuracy\n",
    " ### Next we can use Logistic Regression and compare results\n",
    " ### Or include the 'subject in the features and use MultinomialNB"
   ]
  },
  {
   "cell_type": "code",
   "execution_count": null,
   "metadata": {
    "collapsed": true
   },
   "outputs": [],
   "source": []
  }
 ],
 "metadata": {
  "anaconda-cloud": {},
  "kernelspec": {
   "display_name": "Python [conda root]",
   "language": "python",
   "name": "conda-root-py"
  },
  "language_info": {
   "codemirror_mode": {
    "name": "ipython",
    "version": 3
   },
   "file_extension": ".py",
   "mimetype": "text/x-python",
   "name": "python",
   "nbconvert_exporter": "python",
   "pygments_lexer": "ipython3",
   "version": "3.5.2"
  }
 },
 "nbformat": 4,
 "nbformat_minor": 1
}
